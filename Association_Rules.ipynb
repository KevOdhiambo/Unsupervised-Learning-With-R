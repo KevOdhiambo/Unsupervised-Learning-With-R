{
  "nbformat": 4,
  "nbformat_minor": 0,
  "metadata": {
    "colab": {
      "name": "Association Rules.ipynb",
      "provenance": [],
      "authorship_tag": "ABX9TyMq7J/kFdUjAZygf2fKVcyt",
      "include_colab_link": true
    },
    "kernelspec": {
      "name": "python3",
      "display_name": "Python 3"
    },
    "language_info": {
      "name": "python"
    }
  },
  "cells": [
    {
      "cell_type": "markdown",
      "metadata": {
        "id": "view-in-github",
        "colab_type": "text"
      },
      "source": [
        "<a href=\"https://colab.research.google.com/github/KevOdhiambo/Unsupervised-Learning-With-R/blob/main/Association_Rules.ipynb\" target=\"_parent\"><img src=\"https://colab.research.google.com/assets/colab-badge.svg\" alt=\"Open In Colab\"/></a>"
      ]
    },
    {
      "cell_type": "markdown",
      "source": [
        "##Association Rules\n",
        "\n",
        "This section you are to create association rules that will allow you to identify relationships between variables in the dataset. You are provided with a separate dataset that comprises groups of items that will be associated with others. Just like in the other sections, you will also be required to provide insights for your analysis"
      ],
      "metadata": {
        "id": "jq5mbvv_a0IL"
      }
    },
    {
      "cell_type": "markdown",
      "source": [
        "### Data Analysis Objectives\n",
        "Perform associative analysis on items sales data to identify relationships between items bought.\n",
        "\n",
        "### Understanding context\n",
        "Carrefour Kenya seeks to undertake a project that will inform the marketing department on the most relevant marketing strategies that will result in the highest no. of sales (total price including tax).Associative analysis on sales data would be helpful in identifying customer purchase trends and behaviour.\n",
        "\n",
        "### Experimental Design\n",
        "\n",
        "- Problem definition\n",
        "- Data Loading\n",
        "- Exploratory data analysis\n",
        "- Implementation of the solution\n",
        "- Summary of findings"
      ],
      "metadata": {
        "id": "ddHGZngUbDzJ"
      }
    },
    {
      "cell_type": "code",
      "execution_count": 1,
      "metadata": {
        "id": "Ii-HdlQ6afeK"
      },
      "outputs": [],
      "source": [
        "%load_ext rpy2.ipython"
      ]
    },
    {
      "cell_type": "code",
      "source": [
        "%%R\n",
        "#Install necessary packages\n",
        "install.packages('arules')\n",
        "install.packages('arulesViz')\n",
        "install.packages(\"dplyr\")"
      ],
      "metadata": {
        "colab": {
          "base_uri": "https://localhost:8080/"
        },
        "id": "ONh7PMgjajkM",
        "outputId": "a8adc31f-b2fd-4e93-aad6-0b38b6cf112c"
      },
      "execution_count": 7,
      "outputs": [
        {
          "output_type": "stream",
          "name": "stderr",
          "text": [
            "WARNING:rpy2.rinterface_lib.callbacks:R[write to console]: Installing package into ‘/usr/local/lib/R/site-library’\n",
            "(as ‘lib’ is unspecified)\n",
            "\n",
            "WARNING:rpy2.rinterface_lib.callbacks:R[write to console]: trying URL 'https://cran.rstudio.com/src/contrib/arules_1.7-3.tar.gz'\n",
            "\n",
            "WARNING:rpy2.rinterface_lib.callbacks:R[write to console]: Content type 'application/x-gzip'\n",
            "WARNING:rpy2.rinterface_lib.callbacks:R[write to console]:  length 1897983 bytes (1.8 MB)\n",
            "\n",
            "WARNING:rpy2.rinterface_lib.callbacks:R[write to console]: =\n",
            "WARNING:rpy2.rinterface_lib.callbacks:R[write to console]: =\n",
            "WARNING:rpy2.rinterface_lib.callbacks:R[write to console]: =\n",
            "WARNING:rpy2.rinterface_lib.callbacks:R[write to console]: =\n",
            "WARNING:rpy2.rinterface_lib.callbacks:R[write to console]: =\n",
            "WARNING:rpy2.rinterface_lib.callbacks:R[write to console]: =\n",
            "WARNING:rpy2.rinterface_lib.callbacks:R[write to console]: =\n",
            "WARNING:rpy2.rinterface_lib.callbacks:R[write to console]: =\n",
            "WARNING:rpy2.rinterface_lib.callbacks:R[write to console]: =\n",
            "WARNING:rpy2.rinterface_lib.callbacks:R[write to console]: =\n",
            "WARNING:rpy2.rinterface_lib.callbacks:R[write to console]: =\n",
            "WARNING:rpy2.rinterface_lib.callbacks:R[write to console]: =\n",
            "WARNING:rpy2.rinterface_lib.callbacks:R[write to console]: =\n",
            "WARNING:rpy2.rinterface_lib.callbacks:R[write to console]: =\n",
            "WARNING:rpy2.rinterface_lib.callbacks:R[write to console]: =\n",
            "WARNING:rpy2.rinterface_lib.callbacks:R[write to console]: =\n",
            "WARNING:rpy2.rinterface_lib.callbacks:R[write to console]: =\n",
            "WARNING:rpy2.rinterface_lib.callbacks:R[write to console]: =\n",
            "WARNING:rpy2.rinterface_lib.callbacks:R[write to console]: =\n",
            "WARNING:rpy2.rinterface_lib.callbacks:R[write to console]: =\n",
            "WARNING:rpy2.rinterface_lib.callbacks:R[write to console]: =\n",
            "WARNING:rpy2.rinterface_lib.callbacks:R[write to console]: =\n",
            "WARNING:rpy2.rinterface_lib.callbacks:R[write to console]: =\n",
            "WARNING:rpy2.rinterface_lib.callbacks:R[write to console]: =\n",
            "WARNING:rpy2.rinterface_lib.callbacks:R[write to console]: =\n",
            "WARNING:rpy2.rinterface_lib.callbacks:R[write to console]: =\n",
            "WARNING:rpy2.rinterface_lib.callbacks:R[write to console]: =\n",
            "WARNING:rpy2.rinterface_lib.callbacks:R[write to console]: =\n",
            "WARNING:rpy2.rinterface_lib.callbacks:R[write to console]: =\n",
            "WARNING:rpy2.rinterface_lib.callbacks:R[write to console]: =\n",
            "WARNING:rpy2.rinterface_lib.callbacks:R[write to console]: =\n",
            "WARNING:rpy2.rinterface_lib.callbacks:R[write to console]: =\n",
            "WARNING:rpy2.rinterface_lib.callbacks:R[write to console]: =\n",
            "WARNING:rpy2.rinterface_lib.callbacks:R[write to console]: =\n",
            "WARNING:rpy2.rinterface_lib.callbacks:R[write to console]: =\n",
            "WARNING:rpy2.rinterface_lib.callbacks:R[write to console]: =\n",
            "WARNING:rpy2.rinterface_lib.callbacks:R[write to console]: =\n",
            "WARNING:rpy2.rinterface_lib.callbacks:R[write to console]: =\n",
            "WARNING:rpy2.rinterface_lib.callbacks:R[write to console]: =\n",
            "WARNING:rpy2.rinterface_lib.callbacks:R[write to console]: =\n",
            "WARNING:rpy2.rinterface_lib.callbacks:R[write to console]: =\n",
            "WARNING:rpy2.rinterface_lib.callbacks:R[write to console]: =\n",
            "WARNING:rpy2.rinterface_lib.callbacks:R[write to console]: =\n",
            "WARNING:rpy2.rinterface_lib.callbacks:R[write to console]: =\n",
            "WARNING:rpy2.rinterface_lib.callbacks:R[write to console]: =\n",
            "WARNING:rpy2.rinterface_lib.callbacks:R[write to console]: =\n",
            "WARNING:rpy2.rinterface_lib.callbacks:R[write to console]: =\n",
            "WARNING:rpy2.rinterface_lib.callbacks:R[write to console]: =\n",
            "WARNING:rpy2.rinterface_lib.callbacks:R[write to console]: =\n",
            "WARNING:rpy2.rinterface_lib.callbacks:R[write to console]: =\n",
            "WARNING:rpy2.rinterface_lib.callbacks:R[write to console]: \n",
            "\n",
            "WARNING:rpy2.rinterface_lib.callbacks:R[write to console]: downloaded 1.8 MB\n",
            "\n",
            "\n",
            "WARNING:rpy2.rinterface_lib.callbacks:R[write to console]: \n",
            "\n",
            "WARNING:rpy2.rinterface_lib.callbacks:R[write to console]: \n",
            "WARNING:rpy2.rinterface_lib.callbacks:R[write to console]: The downloaded source packages are in\n",
            "\t‘/tmp/RtmphCahIF/downloaded_packages’\n",
            "WARNING:rpy2.rinterface_lib.callbacks:R[write to console]: \n",
            "WARNING:rpy2.rinterface_lib.callbacks:R[write to console]: \n",
            "\n",
            "WARNING:rpy2.rinterface_lib.callbacks:R[write to console]: Installing package into ‘/usr/local/lib/R/site-library’\n",
            "(as ‘lib’ is unspecified)\n",
            "\n",
            "WARNING:rpy2.rinterface_lib.callbacks:R[write to console]: trying URL 'https://cran.rstudio.com/src/contrib/arulesViz_1.5-1.tar.gz'\n",
            "\n",
            "WARNING:rpy2.rinterface_lib.callbacks:R[write to console]: Content type 'application/x-gzip'\n",
            "WARNING:rpy2.rinterface_lib.callbacks:R[write to console]:  length 1798490 bytes (1.7 MB)\n",
            "\n",
            "WARNING:rpy2.rinterface_lib.callbacks:R[write to console]: =\n",
            "WARNING:rpy2.rinterface_lib.callbacks:R[write to console]: =\n",
            "WARNING:rpy2.rinterface_lib.callbacks:R[write to console]: =\n",
            "WARNING:rpy2.rinterface_lib.callbacks:R[write to console]: =\n",
            "WARNING:rpy2.rinterface_lib.callbacks:R[write to console]: =\n",
            "WARNING:rpy2.rinterface_lib.callbacks:R[write to console]: =\n",
            "WARNING:rpy2.rinterface_lib.callbacks:R[write to console]: =\n",
            "WARNING:rpy2.rinterface_lib.callbacks:R[write to console]: =\n",
            "WARNING:rpy2.rinterface_lib.callbacks:R[write to console]: =\n",
            "WARNING:rpy2.rinterface_lib.callbacks:R[write to console]: =\n",
            "WARNING:rpy2.rinterface_lib.callbacks:R[write to console]: =\n",
            "WARNING:rpy2.rinterface_lib.callbacks:R[write to console]: =\n",
            "WARNING:rpy2.rinterface_lib.callbacks:R[write to console]: =\n",
            "WARNING:rpy2.rinterface_lib.callbacks:R[write to console]: =\n",
            "WARNING:rpy2.rinterface_lib.callbacks:R[write to console]: =\n",
            "WARNING:rpy2.rinterface_lib.callbacks:R[write to console]: =\n",
            "WARNING:rpy2.rinterface_lib.callbacks:R[write to console]: =\n",
            "WARNING:rpy2.rinterface_lib.callbacks:R[write to console]: =\n",
            "WARNING:rpy2.rinterface_lib.callbacks:R[write to console]: =\n",
            "WARNING:rpy2.rinterface_lib.callbacks:R[write to console]: =\n",
            "WARNING:rpy2.rinterface_lib.callbacks:R[write to console]: =\n",
            "WARNING:rpy2.rinterface_lib.callbacks:R[write to console]: =\n",
            "WARNING:rpy2.rinterface_lib.callbacks:R[write to console]: =\n",
            "WARNING:rpy2.rinterface_lib.callbacks:R[write to console]: =\n",
            "WARNING:rpy2.rinterface_lib.callbacks:R[write to console]: =\n",
            "WARNING:rpy2.rinterface_lib.callbacks:R[write to console]: =\n",
            "WARNING:rpy2.rinterface_lib.callbacks:R[write to console]: =\n",
            "WARNING:rpy2.rinterface_lib.callbacks:R[write to console]: =\n",
            "WARNING:rpy2.rinterface_lib.callbacks:R[write to console]: =\n",
            "WARNING:rpy2.rinterface_lib.callbacks:R[write to console]: =\n",
            "WARNING:rpy2.rinterface_lib.callbacks:R[write to console]: =\n",
            "WARNING:rpy2.rinterface_lib.callbacks:R[write to console]: =\n",
            "WARNING:rpy2.rinterface_lib.callbacks:R[write to console]: =\n",
            "WARNING:rpy2.rinterface_lib.callbacks:R[write to console]: =\n",
            "WARNING:rpy2.rinterface_lib.callbacks:R[write to console]: =\n",
            "WARNING:rpy2.rinterface_lib.callbacks:R[write to console]: =\n",
            "WARNING:rpy2.rinterface_lib.callbacks:R[write to console]: =\n",
            "WARNING:rpy2.rinterface_lib.callbacks:R[write to console]: =\n",
            "WARNING:rpy2.rinterface_lib.callbacks:R[write to console]: =\n",
            "WARNING:rpy2.rinterface_lib.callbacks:R[write to console]: =\n",
            "WARNING:rpy2.rinterface_lib.callbacks:R[write to console]: =\n",
            "WARNING:rpy2.rinterface_lib.callbacks:R[write to console]: =\n",
            "WARNING:rpy2.rinterface_lib.callbacks:R[write to console]: =\n",
            "WARNING:rpy2.rinterface_lib.callbacks:R[write to console]: =\n",
            "WARNING:rpy2.rinterface_lib.callbacks:R[write to console]: =\n",
            "WARNING:rpy2.rinterface_lib.callbacks:R[write to console]: =\n",
            "WARNING:rpy2.rinterface_lib.callbacks:R[write to console]: =\n",
            "WARNING:rpy2.rinterface_lib.callbacks:R[write to console]: =\n",
            "WARNING:rpy2.rinterface_lib.callbacks:R[write to console]: =\n",
            "WARNING:rpy2.rinterface_lib.callbacks:R[write to console]: =\n",
            "WARNING:rpy2.rinterface_lib.callbacks:R[write to console]: \n",
            "\n",
            "WARNING:rpy2.rinterface_lib.callbacks:R[write to console]: downloaded 1.7 MB\n",
            "\n",
            "\n",
            "WARNING:rpy2.rinterface_lib.callbacks:R[write to console]: \n",
            "\n",
            "WARNING:rpy2.rinterface_lib.callbacks:R[write to console]: \n",
            "WARNING:rpy2.rinterface_lib.callbacks:R[write to console]: The downloaded source packages are in\n",
            "\t‘/tmp/RtmphCahIF/downloaded_packages’\n",
            "WARNING:rpy2.rinterface_lib.callbacks:R[write to console]: \n",
            "WARNING:rpy2.rinterface_lib.callbacks:R[write to console]: \n",
            "\n",
            "WARNING:rpy2.rinterface_lib.callbacks:R[write to console]: Installing package into ‘/usr/local/lib/R/site-library’\n",
            "(as ‘lib’ is unspecified)\n",
            "\n",
            "WARNING:rpy2.rinterface_lib.callbacks:R[write to console]: trying URL 'https://cran.rstudio.com/src/contrib/dplyr_1.0.9.tar.gz'\n",
            "\n",
            "WARNING:rpy2.rinterface_lib.callbacks:R[write to console]: Content type 'application/x-gzip'\n",
            "WARNING:rpy2.rinterface_lib.callbacks:R[write to console]:  length 957637 bytes (935 KB)\n",
            "\n",
            "WARNING:rpy2.rinterface_lib.callbacks:R[write to console]: =\n",
            "WARNING:rpy2.rinterface_lib.callbacks:R[write to console]: =\n",
            "WARNING:rpy2.rinterface_lib.callbacks:R[write to console]: =\n",
            "WARNING:rpy2.rinterface_lib.callbacks:R[write to console]: =\n",
            "WARNING:rpy2.rinterface_lib.callbacks:R[write to console]: =\n",
            "WARNING:rpy2.rinterface_lib.callbacks:R[write to console]: =\n",
            "WARNING:rpy2.rinterface_lib.callbacks:R[write to console]: =\n",
            "WARNING:rpy2.rinterface_lib.callbacks:R[write to console]: =\n",
            "WARNING:rpy2.rinterface_lib.callbacks:R[write to console]: =\n",
            "WARNING:rpy2.rinterface_lib.callbacks:R[write to console]: =\n",
            "WARNING:rpy2.rinterface_lib.callbacks:R[write to console]: =\n",
            "WARNING:rpy2.rinterface_lib.callbacks:R[write to console]: =\n",
            "WARNING:rpy2.rinterface_lib.callbacks:R[write to console]: =\n",
            "WARNING:rpy2.rinterface_lib.callbacks:R[write to console]: =\n",
            "WARNING:rpy2.rinterface_lib.callbacks:R[write to console]: =\n",
            "WARNING:rpy2.rinterface_lib.callbacks:R[write to console]: =\n",
            "WARNING:rpy2.rinterface_lib.callbacks:R[write to console]: =\n",
            "WARNING:rpy2.rinterface_lib.callbacks:R[write to console]: =\n",
            "WARNING:rpy2.rinterface_lib.callbacks:R[write to console]: =\n",
            "WARNING:rpy2.rinterface_lib.callbacks:R[write to console]: =\n",
            "WARNING:rpy2.rinterface_lib.callbacks:R[write to console]: =\n",
            "WARNING:rpy2.rinterface_lib.callbacks:R[write to console]: =\n",
            "WARNING:rpy2.rinterface_lib.callbacks:R[write to console]: =\n",
            "WARNING:rpy2.rinterface_lib.callbacks:R[write to console]: =\n",
            "WARNING:rpy2.rinterface_lib.callbacks:R[write to console]: =\n",
            "WARNING:rpy2.rinterface_lib.callbacks:R[write to console]: =\n",
            "WARNING:rpy2.rinterface_lib.callbacks:R[write to console]: =\n",
            "WARNING:rpy2.rinterface_lib.callbacks:R[write to console]: =\n",
            "WARNING:rpy2.rinterface_lib.callbacks:R[write to console]: =\n",
            "WARNING:rpy2.rinterface_lib.callbacks:R[write to console]: =\n",
            "WARNING:rpy2.rinterface_lib.callbacks:R[write to console]: =\n",
            "WARNING:rpy2.rinterface_lib.callbacks:R[write to console]: =\n",
            "WARNING:rpy2.rinterface_lib.callbacks:R[write to console]: =\n",
            "WARNING:rpy2.rinterface_lib.callbacks:R[write to console]: =\n",
            "WARNING:rpy2.rinterface_lib.callbacks:R[write to console]: =\n",
            "WARNING:rpy2.rinterface_lib.callbacks:R[write to console]: =\n",
            "WARNING:rpy2.rinterface_lib.callbacks:R[write to console]: =\n",
            "WARNING:rpy2.rinterface_lib.callbacks:R[write to console]: =\n",
            "WARNING:rpy2.rinterface_lib.callbacks:R[write to console]: =\n",
            "WARNING:rpy2.rinterface_lib.callbacks:R[write to console]: =\n",
            "WARNING:rpy2.rinterface_lib.callbacks:R[write to console]: =\n",
            "WARNING:rpy2.rinterface_lib.callbacks:R[write to console]: =\n",
            "WARNING:rpy2.rinterface_lib.callbacks:R[write to console]: =\n",
            "WARNING:rpy2.rinterface_lib.callbacks:R[write to console]: =\n",
            "WARNING:rpy2.rinterface_lib.callbacks:R[write to console]: =\n",
            "WARNING:rpy2.rinterface_lib.callbacks:R[write to console]: =\n",
            "WARNING:rpy2.rinterface_lib.callbacks:R[write to console]: =\n",
            "WARNING:rpy2.rinterface_lib.callbacks:R[write to console]: =\n",
            "WARNING:rpy2.rinterface_lib.callbacks:R[write to console]: =\n",
            "WARNING:rpy2.rinterface_lib.callbacks:R[write to console]: =\n",
            "WARNING:rpy2.rinterface_lib.callbacks:R[write to console]: \n",
            "\n",
            "WARNING:rpy2.rinterface_lib.callbacks:R[write to console]: downloaded 935 KB\n",
            "\n",
            "\n",
            "WARNING:rpy2.rinterface_lib.callbacks:R[write to console]: \n",
            "\n",
            "WARNING:rpy2.rinterface_lib.callbacks:R[write to console]: \n",
            "WARNING:rpy2.rinterface_lib.callbacks:R[write to console]: The downloaded source packages are in\n",
            "\t‘/tmp/RtmphCahIF/downloaded_packages’\n",
            "WARNING:rpy2.rinterface_lib.callbacks:R[write to console]: \n",
            "WARNING:rpy2.rinterface_lib.callbacks:R[write to console]: \n",
            "\n"
          ]
        }
      ]
    },
    {
      "cell_type": "code",
      "source": [
        "%%R\n",
        "#load the lirary packages\n",
        "library(arules)\n",
        "library(arulesViz)\n",
        "library(dplyr)"
      ],
      "metadata": {
        "colab": {
          "base_uri": "https://localhost:8080/"
        },
        "id": "WSheb5BedUen",
        "outputId": "cf855c58-ef51-4094-d9f7-217f01bf88f0"
      },
      "execution_count": 8,
      "outputs": [
        {
          "output_type": "stream",
          "name": "stderr",
          "text": [
            "WARNING:rpy2.rinterface_lib.callbacks:R[write to console]: \n",
            "Attaching package: ‘dplyr’\n",
            "\n",
            "\n",
            "WARNING:rpy2.rinterface_lib.callbacks:R[write to console]: The following objects are masked from ‘package:arules’:\n",
            "\n",
            "    intersect, recode, setdiff, setequal, union\n",
            "\n",
            "\n",
            "WARNING:rpy2.rinterface_lib.callbacks:R[write to console]: The following objects are masked from ‘package:stats’:\n",
            "\n",
            "    filter, lag\n",
            "\n",
            "\n",
            "WARNING:rpy2.rinterface_lib.callbacks:R[write to console]: The following objects are masked from ‘package:base’:\n",
            "\n",
            "    intersect, setdiff, setequal, union\n",
            "\n",
            "\n"
          ]
        }
      ]
    },
    {
      "cell_type": "code",
      "source": [
        "%%R\n",
        "#LOad dataset\n",
        "sales <- read.transactions(\"SalesDataII.csv\", sep=\",\" , header = FALSE)"
      ],
      "metadata": {
        "id": "Y7XT5Xqcf3fG"
      },
      "execution_count": 10,
      "outputs": []
    },
    {
      "cell_type": "code",
      "source": [
        "%%R\n",
        "# Verifying the object's class\n",
        "class(sales)"
      ],
      "metadata": {
        "colab": {
          "base_uri": "https://localhost:8080/"
        },
        "id": "s101vQOFE4XG",
        "outputId": "cf01dd4f-ec60-4666-9547-35d204e4b925"
      },
      "execution_count": 48,
      "outputs": [
        {
          "output_type": "stream",
          "name": "stdout",
          "text": [
            "[1] \"transactions\"\n",
            "attr(,\"package\")\n",
            "[1] \"arules\"\n"
          ]
        }
      ]
    },
    {
      "cell_type": "code",
      "source": [
        "%%R\n",
        "#preview our transactions\n",
        "head(sales)"
      ],
      "metadata": {
        "colab": {
          "base_uri": "https://localhost:8080/"
        },
        "id": "Q7mVnX0Wghgu",
        "outputId": "4e58fb5a-3df1-4c17-a939-33816e02be49"
      },
      "execution_count": 12,
      "outputs": [
        {
          "output_type": "stream",
          "name": "stdout",
          "text": [
            "transactions in sparse format with\n",
            " 6 transactions (rows) and\n",
            " 119 items (columns)\n"
          ]
        }
      ]
    },
    {
      "cell_type": "code",
      "source": [
        "%%R\n",
        "# Number of unique items bought\n",
        "length(itemLabels(sales))"
      ],
      "metadata": {
        "colab": {
          "base_uri": "https://localhost:8080/"
        },
        "id": "SAl-QHVlglWp",
        "outputId": "3d730947-3b84-4aea-ba9c-0d3d3f84d4c6"
      },
      "execution_count": 13,
      "outputs": [
        {
          "output_type": "stream",
          "name": "stdout",
          "text": [
            "[1] 119\n"
          ]
        }
      ]
    },
    {
      "cell_type": "code",
      "source": [
        "%%R\n",
        "#  summary of the transactions\n",
        "summary(sales)\n",
        "\n",
        "#mineral water was the most purchased"
      ],
      "metadata": {
        "colab": {
          "base_uri": "https://localhost:8080/"
        },
        "id": "MnZezjAlg5M3",
        "outputId": "9d6f7f26-32a5-491b-a1b6-37941183c225"
      },
      "execution_count": 14,
      "outputs": [
        {
          "output_type": "stream",
          "name": "stdout",
          "text": [
            "transactions as itemMatrix in sparse format with\n",
            " 7501 rows (elements/itemsets/transactions) and\n",
            " 119 columns (items) and a density of 0.03288973 \n",
            "\n",
            "most frequent items:\n",
            "mineral water          eggs     spaghetti  french fries     chocolate \n",
            "         1788          1348          1306          1282          1229 \n",
            "      (Other) \n",
            "        22405 \n",
            "\n",
            "element (itemset/transaction) length distribution:\n",
            "sizes\n",
            "   1    2    3    4    5    6    7    8    9   10   11   12   13   14   15   16 \n",
            "1754 1358 1044  816  667  493  391  324  259  139  102   67   40   22   17    4 \n",
            "  18   19   20 \n",
            "   1    2    1 \n",
            "\n",
            "   Min. 1st Qu.  Median    Mean 3rd Qu.    Max. \n",
            "  1.000   2.000   3.000   3.914   5.000  20.000 \n",
            "\n",
            "includes extended item information - examples:\n",
            "             labels\n",
            "1           almonds\n",
            "2 antioxydant juice\n",
            "3         asparagus\n"
          ]
        }
      ]
    },
    {
      "cell_type": "code",
      "source": [
        "%%R\n",
        "# Plot the top 8 most frequently purchased items\n",
        "itemFrequencyPlot(sales, topN = 8, type='absolute',col=\"coral2\")\n",
        "\n",
        "#Mineral water, eggs and spaghetti are the most frequently purchased items. "
      ],
      "metadata": {
        "colab": {
          "base_uri": "https://localhost:8080/",
          "height": 497
        },
        "id": "sxRDl4TGi78W",
        "outputId": "1a6ae3ff-6a3c-4781-89a1-128d96cad493"
      },
      "execution_count": 15,
      "outputs": [
        {
          "output_type": "display_data",
          "data": {
            "image/png": "[encoded data removed]"
          },
          "metadata": {}
        }
      ]
    },
    {
      "cell_type": "code",
      "source": [
        "%%R\n",
        "# Plot items with a minimum support of 0.1\n",
        "itemFrequencyPlot(sales, support = 0.1, col = \"orange\")\n",
        "\n",
        "#Seven items have a support of 0.1 or above."
      ],
      "metadata": {
        "colab": {
          "base_uri": "https://localhost:8080/",
          "height": 497
        },
        "id": "3wcd5_-EjItg",
        "outputId": "0eeb287f-c0e4-4509-ab0a-c71969c37d51"
      },
      "execution_count": 17,
      "outputs": [
        {
          "output_type": "display_data",
          "data": {
            "image/png": "[encoded data removed]"
          },
          "metadata": {}
        }
      ]
    },
    {
      "cell_type": "code",
      "source": [
        "%%R\n",
        "# Support per item\n",
        "support <- sort(itemFrequency(sales) * 100)"
      ],
      "metadata": {
        "id": "cfM9D-FljW4d"
      },
      "execution_count": 18,
      "outputs": []
    },
    {
      "cell_type": "code",
      "source": [
        "%%R\n",
        "# Percentage of items with a support less than 0.1%\n",
        "length(support[support < 0.1])/ 119 * 100"
      ],
      "metadata": {
        "colab": {
          "base_uri": "https://localhost:8080/"
        },
        "id": "meIBhckXjqwR",
        "outputId": "2a05d8f2-e367-4917-b682-f2ca09a39d10"
      },
      "execution_count": 19,
      "outputs": [
        {
          "output_type": "stream",
          "name": "stdout",
          "text": [
            "[1] 2.521008\n"
          ]
        }
      ]
    },
    {
      "cell_type": "code",
      "source": [
        "%%R\n",
        "# Percentage of items with a support less than 0.2%\n",
        "length(support[support < 0.2])/ 119 * 100"
      ],
      "metadata": {
        "colab": {
          "base_uri": "https://localhost:8080/"
        },
        "id": "l1T8WRfZjwxO",
        "outputId": "2bcfd234-7528-4d1c-9c83-0b1db3b7d159"
      },
      "execution_count": 20,
      "outputs": [
        {
          "output_type": "stream",
          "name": "stdout",
          "text": [
            "[1] 3.361345\n"
          ]
        }
      ]
    },
    {
      "cell_type": "code",
      "source": [
        "%%R\n",
        "# Build models based on association rules\n",
        "\n",
        "\n",
        "# Using minimum support of 0.002 and confidence of 0.6\n",
        "rule1 <- apriori(sales, parameter = list(supp = 0.002, conf = 0.6, maxlen=10))"
      ],
      "metadata": {
        "colab": {
          "base_uri": "https://localhost:8080/"
        },
        "id": "0lJOsNo3kLBW",
        "outputId": "2a78a56c-8aa0-4da4-d550-ad7c1ece58e0"
      },
      "execution_count": 22,
      "outputs": [
        {
          "output_type": "stream",
          "name": "stdout",
          "text": [
            "Apriori\n",
            "\n",
            "Parameter specification:\n",
            " confidence minval smax arem  aval originalSupport maxtime support minlen\n",
            "        0.6    0.1    1 none FALSE            TRUE       5   0.002      1\n",
            " maxlen target  ext\n",
            "     10  rules TRUE\n",
            "\n",
            "Algorithmic control:\n",
            " filter tree heap memopt load sort verbose\n",
            "    0.1 TRUE TRUE  FALSE TRUE    2    TRUE\n",
            "\n",
            "Absolute minimum support count: 15 \n",
            "\n",
            "set item appearances ...[0 item(s)] done [0.00s].\n",
            "set transactions ...[119 item(s), 7501 transaction(s)] done [0.01s].\n",
            "sorting and recoding items ... [115 item(s)] done [0.00s].\n",
            "creating transaction tree ... done [0.00s].\n",
            "checking subsets of size 1 2 3 4 5 done [0.01s].\n",
            "writing ... [43 rule(s)] done [0.00s].\n",
            "creating S4 object  ... done [0.00s].\n"
          ]
        }
      ]
    },
    {
      "cell_type": "code",
      "source": [
        "%%R\n",
        "# Using minimum support of 0.001 and confidence of 0.8\n",
        "rule2 <- apriori(sales, parameter = list(supp = 0.001, conf = 0.8, maxlen=10))"
      ],
      "metadata": {
        "colab": {
          "base_uri": "https://localhost:8080/"
        },
        "id": "Rzf3ZKx1j06I",
        "outputId": "a2725d0b-ce69-46a8-8955-2042bcfbbb77"
      },
      "execution_count": 23,
      "outputs": [
        {
          "output_type": "stream",
          "name": "stdout",
          "text": [
            "Apriori\n",
            "\n",
            "Parameter specification:\n",
            " confidence minval smax arem  aval originalSupport maxtime support minlen\n",
            "        0.8    0.1    1 none FALSE            TRUE       5   0.001      1\n",
            " maxlen target  ext\n",
            "     10  rules TRUE\n",
            "\n",
            "Algorithmic control:\n",
            " filter tree heap memopt load sort verbose\n",
            "    0.1 TRUE TRUE  FALSE TRUE    2    TRUE\n",
            "\n",
            "Absolute minimum support count: 7 \n",
            "\n",
            "set item appearances ...[0 item(s)] done [0.00s].\n",
            "set transactions ...[119 item(s), 7501 transaction(s)] done [0.01s].\n",
            "sorting and recoding items ... [116 item(s)] done [0.00s].\n",
            "creating transaction tree ... done [0.00s].\n",
            "checking subsets of size 1 2 3 4 5 6 done [0.02s].\n",
            "writing ... [74 rule(s)] done [0.00s].\n",
            "creating S4 object  ... done [0.00s].\n"
          ]
        }
      ]
    },
    {
      "cell_type": "code",
      "source": [
        "%%R\n",
        "#Get summary stats for Rule 1\n",
        "summary(rule1)\n",
        "\n",
        "#A minimum support and confidence of 0.002 and .6 respectively generate 43 rules"
      ],
      "metadata": {
        "colab": {
          "base_uri": "https://localhost:8080/"
        },
        "id": "tPoUQZM3kDUS",
        "outputId": "b0422c20-58c0-4af8-fe4a-69cfd9ee49dd"
      },
      "execution_count": 24,
      "outputs": [
        {
          "output_type": "stream",
          "name": "stdout",
          "text": [
            "set of 43 rules\n",
            "\n",
            "rule length distribution (lhs + rhs):sizes\n",
            " 3  4 \n",
            "16 27 \n",
            "\n",
            "   Min. 1st Qu.  Median    Mean 3rd Qu.    Max. \n",
            "  3.000   3.000   4.000   3.628   4.000   4.000 \n",
            "\n",
            "summary of quality measures:\n",
            "    support           confidence        coverage             lift       \n",
            " Min.   :0.002133   Min.   :0.6000   Min.   :0.002533   Min.   : 2.517  \n",
            " 1st Qu.:0.002200   1st Qu.:0.6180   1st Qu.:0.003333   1st Qu.: 2.637  \n",
            " Median :0.002400   Median :0.6400   Median :0.003866   Median : 2.743  \n",
            " Mean   :0.002713   Mean   :0.6643   Mean   :0.004145   Mean   : 3.315  \n",
            " 3rd Qu.:0.003066   3rd Qu.:0.6972   3rd Qu.:0.004666   3rd Qu.: 3.344  \n",
            " Max.   :0.005066   Max.   :0.9500   Max.   :0.007999   Max.   :11.976  \n",
            "     count      \n",
            " Min.   :16.00  \n",
            " 1st Qu.:16.50  \n",
            " Median :18.00  \n",
            " Mean   :20.35  \n",
            " 3rd Qu.:23.00  \n",
            " Max.   :38.00  \n",
            "\n",
            "mining info:\n",
            "  data ntransactions support confidence\n",
            " sales          7501   0.002        0.6\n",
            "                                                                           call\n",
            " apriori(data = sales, parameter = list(supp = 0.002, conf = 0.6, maxlen = 10))\n"
          ]
        }
      ]
    },
    {
      "cell_type": "code",
      "source": [
        "%%R\n",
        "#summar for rule 2\n",
        "summary(rule2)\n",
        "\n",
        "#A minimum support and confidence of 0.001 and .8 respectively generates 74 rules"
      ],
      "metadata": {
        "colab": {
          "base_uri": "https://localhost:8080/"
        },
        "id": "wb_VVg24kfUF",
        "outputId": "e4c90abb-084e-4a51-aef7-a23a77a5beb8"
      },
      "execution_count": 25,
      "outputs": [
        {
          "output_type": "stream",
          "name": "stdout",
          "text": [
            "set of 74 rules\n",
            "\n",
            "rule length distribution (lhs + rhs):sizes\n",
            " 3  4  5  6 \n",
            "15 42 16  1 \n",
            "\n",
            "   Min. 1st Qu.  Median    Mean 3rd Qu.    Max. \n",
            "  3.000   4.000   4.000   4.041   4.000   6.000 \n",
            "\n",
            "summary of quality measures:\n",
            "    support           confidence        coverage             lift       \n",
            " Min.   :0.001067   Min.   :0.8000   Min.   :0.001067   Min.   : 3.356  \n",
            " 1st Qu.:0.001067   1st Qu.:0.8000   1st Qu.:0.001333   1st Qu.: 3.432  \n",
            " Median :0.001133   Median :0.8333   Median :0.001333   Median : 3.795  \n",
            " Mean   :0.001256   Mean   :0.8504   Mean   :0.001479   Mean   : 4.823  \n",
            " 3rd Qu.:0.001333   3rd Qu.:0.8889   3rd Qu.:0.001600   3rd Qu.: 4.877  \n",
            " Max.   :0.002533   Max.   :1.0000   Max.   :0.002666   Max.   :12.722  \n",
            "     count       \n",
            " Min.   : 8.000  \n",
            " 1st Qu.: 8.000  \n",
            " Median : 8.500  \n",
            " Mean   : 9.419  \n",
            " 3rd Qu.:10.000  \n",
            " Max.   :19.000  \n",
            "\n",
            "mining info:\n",
            "  data ntransactions support confidence\n",
            " sales          7501   0.001        0.8\n",
            "                                                                           call\n",
            " apriori(data = sales, parameter = list(supp = 0.001, conf = 0.8, maxlen = 10))\n"
          ]
        }
      ]
    },
    {
      "cell_type": "code",
      "source": [
        "%%R\n",
        "# Sort rules based on confidence\n",
        "inspect(sort(rule1, by=\"confidence\", decreasing = T)[1:10])"
      ],
      "metadata": {
        "colab": {
          "base_uri": "https://localhost:8080/"
        },
        "id": "ERgUzHbukkuq",
        "outputId": "7c475397-f89d-4e07-97a1-cced5e44b319"
      },
      "execution_count": 26,
      "outputs": [
        {
          "output_type": "stream",
          "name": "stdout",
          "text": [
            "     lhs                                         rhs             support    \n",
            "[1]  {mushroom cream sauce, pasta}            => {escalope}      0.002532996\n",
            "[2]  {frozen vegetables, olive oil, tomatoes} => {spaghetti}     0.002133049\n",
            "[3]  {pancakes, soup, spaghetti}              => {mineral water} 0.002266364\n",
            "[4]  {frozen vegetables, milk, soup}          => {mineral water} 0.003066258\n",
            "[5]  {frozen vegetables, ground beef, shrimp} => {spaghetti}     0.002399680\n",
            "[6]  {red wine, turkey}                       => {mineral water} 0.002133049\n",
            "[7]  {cooking oil, pancakes, spaghetti}       => {mineral water} 0.002133049\n",
            "[8]  {nonfat milk, spaghetti}                 => {mineral water} 0.002399680\n",
            "[9]  {eggs, milk, olive oil}                  => {mineral water} 0.002666311\n",
            "[10] {cooking oil, eggs, spaghetti}           => {mineral water} 0.002932942\n",
            "     confidence coverage    lift      count\n",
            "[1]  0.9500000  0.002666311 11.976387 19   \n",
            "[2]  0.8421053  0.002532996  4.836624 16   \n",
            "[3]  0.7727273  0.002932942  3.241738 17   \n",
            "[4]  0.7666667  0.003999467  3.216312 23   \n",
            "[5]  0.7500000  0.003199573  4.307619 18   \n",
            "[6]  0.7272727  0.002932942  3.051047 16   \n",
            "[7]  0.7272727  0.002932942  3.051047 16   \n",
            "[8]  0.7200000  0.003332889  3.020537 18   \n",
            "[9]  0.7142857  0.003732836  2.996564 20   \n",
            "[10] 0.7096774  0.004132782  2.977232 22   \n"
          ]
        }
      ]
    },
    {
      "cell_type": "code",
      "source": [
        "%%R\n",
        "# Visualize top 10 rules\n",
        "top_rules <- head(rule1, n = 10, by='confidence')\n",
        "\n",
        "plot(top_rules, method = \"graph\",  engine = \"htmlwidget\")"
      ],
      "metadata": {
        "id": "lxnPhBipk6mR"
      },
      "execution_count": 33,
      "outputs": []
    },
    {
      "cell_type": "code",
      "source": [
        "%%R\n",
        "# Sort rules based on confidence\n",
        "inspect(sort(rule2, by='confidence', decreasing = T)[1:10])"
      ],
      "metadata": {
        "colab": {
          "base_uri": "https://localhost:8080/"
        },
        "id": "VkV1PeFglZPU",
        "outputId": "c9b08010-bd23-4aa1-9696-aa70eba62335"
      },
      "execution_count": 31,
      "outputs": [
        {
          "output_type": "stream",
          "name": "stdout",
          "text": [
            "     lhs                        rhs                 support confidence    coverage      lift count\n",
            "[1]  {french fries,                                                                               \n",
            "      mushroom cream sauce,                                                                       \n",
            "      pasta}                 => {escalope}      0.001066524  1.0000000 0.001066524 12.606723     8\n",
            "[2]  {ground beef,                                                                                \n",
            "      light cream,                                                                                \n",
            "      olive oil}             => {mineral water} 0.001199840  1.0000000 0.001199840  4.195190     9\n",
            "[3]  {cake,                                                                                       \n",
            "      meatballs,                                                                                  \n",
            "      mineral water}         => {milk}          0.001066524  1.0000000 0.001066524  7.717078     8\n",
            "[4]  {cake,                                                                                       \n",
            "      olive oil,                                                                                  \n",
            "      shrimp}                => {mineral water} 0.001199840  1.0000000 0.001199840  4.195190     9\n",
            "[5]  {mushroom cream sauce,                                                                       \n",
            "      pasta}                 => {escalope}      0.002532996  0.9500000 0.002666311 11.976387    19\n",
            "[6]  {red wine,                                                                                   \n",
            "      soup}                  => {mineral water} 0.001866418  0.9333333 0.001999733  3.915511    14\n",
            "[7]  {eggs,                                                                                       \n",
            "      mineral water,                                                                              \n",
            "      pasta}                 => {shrimp}        0.001333156  0.9090909 0.001466471 12.722185    10\n",
            "[8]  {herb & pepper,                                                                              \n",
            "      mineral water,                                                                              \n",
            "      rice}                  => {ground beef}   0.001333156  0.9090909 0.001466471  9.252498    10\n",
            "[9]  {ground beef,                                                                                \n",
            "      pancakes,                                                                                   \n",
            "      whole wheat rice}      => {mineral water} 0.001333156  0.9090909 0.001466471  3.813809    10\n",
            "[10] {frozen vegetables,                                                                          \n",
            "      milk,                                                                                       \n",
            "      spaghetti,                                                                                  \n",
            "      turkey}                => {mineral water} 0.001199840  0.9000000 0.001333156  3.775671     9\n"
          ]
        }
      ]
    },
    {
      "cell_type": "code",
      "source": [
        "%%R\n",
        "#Visualize our fndings on a plot\n",
        "top <- head(rule2, n=10, by='confidence')\n",
        "plot(top, method = 'graph', engine = 'htmlwidget')"
      ],
      "metadata": {
        "id": "Dc_J1t-LlqMi"
      },
      "execution_count": 32,
      "outputs": []
    },
    {
      "cell_type": "markdown",
      "source": [
        "Mushroom, cream sauce, and pasta are most frequently bought."
      ],
      "metadata": {
        "id": "iBpUCBmMmbK_"
      }
    },
    {
      "cell_type": "code",
      "source": [
        "%%R\n",
        "# Create shorter association rules\n",
        "short_rules <- apriori(sales, parameter = list(supp = 0.001, conf = 0.8, maxlen=4))"
      ],
      "metadata": {
        "colab": {
          "base_uri": "https://localhost:8080/"
        },
        "id": "J9JJhHgll5bm",
        "outputId": "c1676ede-e600-454f-e774-dc8d207788dc"
      },
      "execution_count": 34,
      "outputs": [
        {
          "output_type": "stream",
          "name": "stdout",
          "text": [
            "Apriori\n",
            "\n",
            "Parameter specification:\n",
            " confidence minval smax arem  aval originalSupport maxtime support minlen\n",
            "        0.8    0.1    1 none FALSE            TRUE       5   0.001      1\n",
            " maxlen target  ext\n",
            "      4  rules TRUE\n",
            "\n",
            "Algorithmic control:\n",
            " filter tree heap memopt load sort verbose\n",
            "    0.1 TRUE TRUE  FALSE TRUE    2    TRUE\n",
            "\n",
            "Absolute minimum support count: 7 \n",
            "\n",
            "set item appearances ...[0 item(s)] done [0.00s].\n",
            "set transactions ...[119 item(s), 7501 transaction(s)] done [0.02s].\n",
            "sorting and recoding items ... [116 item(s)] done [0.00s].\n",
            "creating transaction tree ... done [0.01s].\n",
            "checking subsets of size 1 2 3 4 done [0.05s].\n",
            "writing ... [57 rule(s)] done [0.00s].\n",
            "creating S4 object  ... done [0.00s].\n"
          ]
        }
      ]
    },
    {
      "cell_type": "code",
      "source": [
        "%%R\n",
        "# Sort rules based on confidence\n",
        "inspect(sort(short_rules, by='confidence', decreasing = T)[1:20])"
      ],
      "metadata": {
        "colab": {
          "base_uri": "https://localhost:8080/"
        },
        "id": "pkT0HEQkmtg8",
        "outputId": "1214452a-d635-48c0-d532-23f32087babf"
      },
      "execution_count": 36,
      "outputs": [
        {
          "output_type": "stream",
          "name": "stdout",
          "text": [
            "     lhs                        rhs                 support confidence    coverage      lift count\n",
            "[1]  {french fries,                                                                               \n",
            "      mushroom cream sauce,                                                                       \n",
            "      pasta}                 => {escalope}      0.001066524  1.0000000 0.001066524 12.606723     8\n",
            "[2]  {ground beef,                                                                                \n",
            "      light cream,                                                                                \n",
            "      olive oil}             => {mineral water} 0.001199840  1.0000000 0.001199840  4.195190     9\n",
            "[3]  {cake,                                                                                       \n",
            "      meatballs,                                                                                  \n",
            "      mineral water}         => {milk}          0.001066524  1.0000000 0.001066524  7.717078     8\n",
            "[4]  {cake,                                                                                       \n",
            "      olive oil,                                                                                  \n",
            "      shrimp}                => {mineral water} 0.001199840  1.0000000 0.001199840  4.195190     9\n",
            "[5]  {mushroom cream sauce,                                                                       \n",
            "      pasta}                 => {escalope}      0.002532996  0.9500000 0.002666311 11.976387    19\n",
            "[6]  {red wine,                                                                                   \n",
            "      soup}                  => {mineral water} 0.001866418  0.9333333 0.001999733  3.915511    14\n",
            "[7]  {eggs,                                                                                       \n",
            "      mineral water,                                                                              \n",
            "      pasta}                 => {shrimp}        0.001333156  0.9090909 0.001466471 12.722185    10\n",
            "[8]  {herb & pepper,                                                                              \n",
            "      mineral water,                                                                              \n",
            "      rice}                  => {ground beef}   0.001333156  0.9090909 0.001466471  9.252498    10\n",
            "[9]  {ground beef,                                                                                \n",
            "      pancakes,                                                                                   \n",
            "      whole wheat rice}      => {mineral water} 0.001333156  0.9090909 0.001466471  3.813809    10\n",
            "[10] {frozen smoothie,                                                                            \n",
            "      spinach}               => {mineral water} 0.001066524  0.8888889 0.001199840  3.729058     8\n",
            "[11] {black tea,                                                                                  \n",
            "      spaghetti,                                                                                  \n",
            "      turkey}                => {eggs}          0.001066524  0.8888889 0.001199840  4.946258     8\n",
            "[12] {light cream,                                                                                \n",
            "      mineral water,                                                                              \n",
            "      shrimp}                => {spaghetti}     0.001066524  0.8888889 0.001199840  5.105326     8\n",
            "[13] {cake,                                                                                       \n",
            "      meatballs,                                                                                  \n",
            "      milk}                  => {mineral water} 0.001066524  0.8888889 0.001199840  3.729058     8\n",
            "[14] {grated cheese,                                                                              \n",
            "      mineral water,                                                                              \n",
            "      rice}                  => {ground beef}   0.001066524  0.8888889 0.001199840  9.046887     8\n",
            "[15] {cake,                                                                                       \n",
            "      olive oil,                                                                                  \n",
            "      whole wheat pasta}     => {mineral water} 0.001066524  0.8888889 0.001199840  3.729058     8\n",
            "[16] {escalope,                                                                                   \n",
            "      hot dogs,                                                                                   \n",
            "      mineral water}         => {milk}          0.001066524  0.8888889 0.001199840  6.859625     8\n",
            "[17] {brownies,                                                                                   \n",
            "      eggs,                                                                                       \n",
            "      ground beef}           => {mineral water} 0.001066524  0.8888889 0.001199840  3.729058     8\n",
            "[18] {chicken,                                                                                    \n",
            "      fresh bread,                                                                                \n",
            "      pancakes}              => {mineral water} 0.001066524  0.8888889 0.001199840  3.729058     8\n",
            "[19] {ground beef,                                                                                \n",
            "      salmon,                                                                                     \n",
            "      shrimp}                => {spaghetti}     0.001066524  0.8888889 0.001199840  5.105326     8\n",
            "[20] {burgers,                                                                                    \n",
            "      milk,                                                                                       \n",
            "      salmon}                => {spaghetti}     0.001066524  0.8888889 0.001199840  5.105326     8\n"
          ]
        }
      ]
    },
    {
      "cell_type": "code",
      "source": [
        "%%R\n",
        "#plot\n",
        "top <- head(short_rules, n=10, by='confidence')\n",
        "plot(top, method = 'graph', engine = 'htmlwidget')"
      ],
      "metadata": {
        "id": "QOSuucVPm2-l"
      },
      "execution_count": 37,
      "outputs": []
    },
    {
      "cell_type": "code",
      "source": [
        "%%R\n",
        "# Get association rules associated to spaghetti\n",
        "spaghetti_ruleset <- apriori(sales, parameter = list(supp=0.001, conf=0.8), appearance = list(default=\"lhs\", rhs=\"spaghetti\"))\n"
      ],
      "metadata": {
        "colab": {
          "base_uri": "https://localhost:8080/"
        },
        "id": "7ttXc2ThsENd",
        "outputId": "5e71a79e-15bf-4a4c-fe07-35ca20a86b52"
      },
      "execution_count": 42,
      "outputs": [
        {
          "output_type": "stream",
          "name": "stdout",
          "text": [
            "Apriori\n",
            "\n",
            "Parameter specification:\n",
            " confidence minval smax arem  aval originalSupport maxtime support minlen\n",
            "        0.8    0.1    1 none FALSE            TRUE       5   0.001      1\n",
            " maxlen target  ext\n",
            "     10  rules TRUE\n",
            "\n",
            "Algorithmic control:\n",
            " filter tree heap memopt load sort verbose\n",
            "    0.1 TRUE TRUE  FALSE TRUE    2    TRUE\n",
            "\n",
            "Absolute minimum support count: 7 \n",
            "\n",
            "set item appearances ...[1 item(s)] done [0.00s].\n",
            "set transactions ...[119 item(s), 7501 transaction(s)] done [0.01s].\n",
            "sorting and recoding items ... [116 item(s)] done [0.00s].\n",
            "creating transaction tree ... done [0.00s].\n",
            "checking subsets of size 1 2 3 4 5 6 done [0.03s].\n",
            "writing ... [16 rule(s)] done [0.00s].\n",
            "creating S4 object  ... done [0.01s].\n"
          ]
        }
      ]
    },
    {
      "cell_type": "code",
      "source": [
        "%%R\n",
        "# Sort rule\n",
        "\n",
        "inspect(spaghetti_ruleset)\n",
        "\n",
        "#Items most bought before spaghetti are shrimp and salmon."
      ],
      "metadata": {
        "colab": {
          "base_uri": "https://localhost:8080/"
        },
        "id": "STSEV1UysLCi",
        "outputId": "dea086dd-892f-4264-8efd-38d32c7f234e"
      },
      "execution_count": 47,
      "outputs": [
        {
          "output_type": "stream",
          "name": "stdout",
          "text": [
            "     lhs                     rhs             support confidence    coverage     lift count\n",
            "[1]  {bacon,                                                                              \n",
            "      pancakes}           => {spaghetti} 0.001733102  0.8125000 0.002133049 4.666587    13\n",
            "[2]  {chicken,                                                                            \n",
            "      protein bar}        => {spaghetti} 0.001199840  0.8181818 0.001466471 4.699220     9\n",
            "[3]  {green tea,                                                                          \n",
            "      ground beef,                                                                        \n",
            "      tomato sauce}       => {spaghetti} 0.001333156  0.8333333 0.001599787 4.786243    10\n",
            "[4]  {light cream,                                                                        \n",
            "      mineral water,                                                                      \n",
            "      shrimp}             => {spaghetti} 0.001066524  0.8888889 0.001199840 5.105326     8\n",
            "[5]  {milk,                                                                               \n",
            "      mineral water,                                                                      \n",
            "      parmesan cheese}    => {spaghetti} 0.001066524  0.8000000 0.001333156 4.594793     8\n",
            "[6]  {cooking oil,                                                                        \n",
            "      mineral water,                                                                      \n",
            "      red wine}           => {spaghetti} 0.001066524  0.8000000 0.001333156 4.594793     8\n",
            "[7]  {avocado,                                                                            \n",
            "      burgers,                                                                            \n",
            "      milk}               => {spaghetti} 0.001066524  0.8000000 0.001333156 4.594793     8\n",
            "[8]  {ground beef,                                                                        \n",
            "      salmon,                                                                             \n",
            "      shrimp}             => {spaghetti} 0.001066524  0.8888889 0.001199840 5.105326     8\n",
            "[9]  {burgers,                                                                            \n",
            "      milk,                                                                               \n",
            "      salmon}             => {spaghetti} 0.001066524  0.8888889 0.001199840 5.105326     8\n",
            "[10] {frozen vegetables,                                                                  \n",
            "      tomatoes,                                                                           \n",
            "      whole wheat rice}   => {spaghetti} 0.001333156  0.8333333 0.001599787 4.786243    10\n",
            "[11] {frozen vegetables,                                                                  \n",
            "      olive oil,                                                                          \n",
            "      tomatoes}           => {spaghetti} 0.002133049  0.8421053 0.002532996 4.836624    16\n",
            "[12] {burgers,                                                                            \n",
            "      frozen vegetables,                                                                  \n",
            "      pancakes}           => {spaghetti} 0.001466471  0.8461538 0.001733102 4.859877    11\n",
            "[13] {frozen vegetables,                                                                  \n",
            "      mineral water,                                                                      \n",
            "      olive oil,                                                                          \n",
            "      tomatoes}           => {spaghetti} 0.001066524  0.8000000 0.001333156 4.594793     8\n",
            "[14] {frozen vegetables,                                                                  \n",
            "      ground beef,                                                                        \n",
            "      mineral water,                                                                      \n",
            "      tomatoes}           => {spaghetti} 0.001199840  0.8181818 0.001466471 4.699220     9\n",
            "[15] {chocolate,                                                                          \n",
            "      french fries,                                                                       \n",
            "      mineral water,                                                                      \n",
            "      olive oil}          => {spaghetti} 0.001066524  0.8000000 0.001333156 4.594793     8\n",
            "[16] {frozen vegetables,                                                                  \n",
            "      ground beef,                                                                        \n",
            "      mineral water,                                                                      \n",
            "      shrimp}             => {spaghetti} 0.001733102  0.8666667 0.001999733 4.977693    13\n"
          ]
        }
      ]
    },
    {
      "cell_type": "code",
      "source": [
        "%%R\n",
        "%%R\n",
        "# Get association rules associated to shrimp\n",
        "shrimp_ruleset <- apriori(sales, parameter = list(supp=0.001, conf=0.8), appearance = list(default=\"lhs\", rhs=\"shrimp\"))"
      ],
      "metadata": {
        "colab": {
          "base_uri": "https://localhost:8080/"
        },
        "id": "fOEXo38hrESK",
        "outputId": "9cf66269-508a-42fa-a512-1a01777f7cc2"
      },
      "execution_count": 40,
      "outputs": [
        {
          "output_type": "stream",
          "name": "stdout",
          "text": [
            "Apriori\n",
            "\n",
            "Parameter specification:\n",
            " confidence minval smax arem  aval originalSupport maxtime support minlen\n",
            "        0.8    0.1    1 none FALSE            TRUE       5   0.001      1\n",
            " maxlen target  ext\n",
            "     10  rules TRUE\n",
            "\n",
            "Algorithmic control:\n",
            " filter tree heap memopt load sort verbose\n",
            "    0.1 TRUE TRUE  FALSE TRUE    2    TRUE\n",
            "\n",
            "Absolute minimum support count: 7 \n",
            "\n",
            "set item appearances ...[1 item(s)] done [0.00s].\n",
            "set transactions ...[119 item(s), 7501 transaction(s)] done [0.02s].\n",
            "sorting and recoding items ... [116 item(s)] done [0.00s].\n",
            "creating transaction tree ... done [0.01s].\n",
            "checking subsets of size 1 2 3 4 5 6 done [0.05s].\n",
            "writing ... [2 rule(s)] done [0.01s].\n",
            "creating S4 object  ... done [0.01s].\n"
          ]
        }
      ]
    },
    {
      "cell_type": "code",
      "source": [
        "%%R\n",
        "# Sort rule\n",
        "\n",
        "inspect(shrimp_ruleset)\n",
        "#Customers purchase pasta before purchasing shrimp"
      ],
      "metadata": {
        "colab": {
          "base_uri": "https://localhost:8080/"
        },
        "id": "K1CANQDurQOa",
        "outputId": "6b05fb55-4513-49bd-a23e-68249dfed4e6"
      },
      "execution_count": 41,
      "outputs": [
        {
          "output_type": "stream",
          "name": "stdout",
          "text": [
            "    lhs                             rhs      support     confidence coverage   \n",
            "[1] {milk, pasta}                => {shrimp} 0.001599787 0.8571429  0.001866418\n",
            "[2] {eggs, mineral water, pasta} => {shrimp} 0.001333156 0.9090909  0.001466471\n",
            "    lift     count\n",
            "[1] 11.99520 12   \n",
            "[2] 12.72218 10   \n"
          ]
        }
      ]
    },
    {
      "cell_type": "markdown",
      "source": [
        "\n",
        "### Summary of findings\n",
        "\n",
        "\n",
        "1. Mushroom cream sauce and pasta are most often bought together with escalope. Stocking pasta and mushroom cream sauce in the same section or next to each other could increase sales.\n",
        "2. Shrimp and salmon are most often bought before spaghetti, locating the meat section next to the pasta/spaghetti section could boost sales.\n",
        "3. Package deals of mushroom sauce and spaghetti together."
      ],
      "metadata": {
        "id": "7lMhoLuos8wv"
      }
    },
    {
      "cell_type": "code",
      "source": [
        ""
      ],
      "metadata": {
        "id": "ohvpqxWnrUCV"
      },
      "execution_count": null,
      "outputs": []
    }
  ]
}